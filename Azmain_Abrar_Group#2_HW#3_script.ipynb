{
    "metadata": {
        "kernelspec": {
            "name": "SQL",
            "display_name": "SQL",
            "language": "sql"
        },
        "language_info": {
            "name": "sql",
            "version": ""
        }
    },
    "nbformat_minor": 2,
    "nbformat": 4,
    "cells": [
        {
            "cell_type": "code",
            "source": [
                "-- 1) Select the first 15 customer names and their order info\r\n",
                "SELECT TOP (15)\r\n",
                "    c.CustomerName,   -- customer name from Customers table\r\n",
                "    o.OrderID,        -- order ID from Orders table\r\n",
                "    o.OrderDate       -- order date from Orders table\r\n",
                "FROM Sales.Customers AS c       -- Customers table alias = c\r\n",
                "INNER JOIN Sales.Orders AS o    -- Orders table alias = o\r\n",
                "    ON c.CustomerID = o.CustomerID;  -- match orders to the correct customer"
            ],
            "metadata": {
                "language": "sql",
                "azdata_cell_guid": "6b46852d-8a0a-4a05-8010-96157265abf5",
                "tags": []
            },
            "outputs": [
                {
                    "output_type": "display_data",
                    "data": {
                        "text/html": "(15 rows affected)"
                    },
                    "metadata": {}
                },
                {
                    "output_type": "display_data",
                    "data": {
                        "text/html": "Total execution time: 00:00:00.011"
                    },
                    "metadata": {}
                },
                {
                    "output_type": "execute_result",
                    "execution_count": 6,
                    "data": {
                        "application/vnd.dataresource+json": {
                            "schema": {
                                "fields": [
                                    {
                                        "name": "CustomerName"
                                    },
                                    {
                                        "name": "OrderID"
                                    },
                                    {
                                        "name": "OrderDate"
                                    }
                                ]
                            },
                            "data": [
                                {
                                    "CustomerName": "Tailspin Toys (Head Office)",
                                    "OrderID": "2934",
                                    "OrderDate": "2013-03-04"
                                },
                                {
                                    "CustomerName": "Tailspin Toys (Head Office)",
                                    "OrderID": "3482",
                                    "OrderDate": "2013-03-12"
                                },
                                {
                                    "CustomerName": "Tailspin Toys (Head Office)",
                                    "OrderID": "3651",
                                    "OrderDate": "2013-03-14"
                                },
                                {
                                    "CustomerName": "Tailspin Toys (Head Office)",
                                    "OrderID": "4064",
                                    "OrderDate": "2013-03-21"
                                },
                                {
                                    "CustomerName": "Tailspin Toys (Head Office)",
                                    "OrderID": "4217",
                                    "OrderDate": "2013-03-25"
                                },
                                {
                                    "CustomerName": "Tailspin Toys (Head Office)",
                                    "OrderID": "4297",
                                    "OrderDate": "2013-03-26"
                                },
                                {
                                    "CustomerName": "Tailspin Toys (Head Office)",
                                    "OrderID": "4581",
                                    "OrderDate": "2013-04-01"
                                },
                                {
                                    "CustomerName": "Tailspin Toys (Head Office)",
                                    "OrderID": "4732",
                                    "OrderDate": "2013-04-04"
                                },
                                {
                                    "CustomerName": "Tailspin Toys (Head Office)",
                                    "OrderID": "5062",
                                    "OrderDate": "2013-04-10"
                                },
                                {
                                    "CustomerName": "Tailspin Toys (Head Office)",
                                    "OrderID": "5063",
                                    "OrderDate": "2013-04-10"
                                },
                                {
                                    "CustomerName": "Tailspin Toys (Head Office)",
                                    "OrderID": "5264",
                                    "OrderDate": "2013-04-13"
                                },
                                {
                                    "CustomerName": "Tailspin Toys (Head Office)",
                                    "OrderID": "7431",
                                    "OrderDate": "2013-05-22"
                                },
                                {
                                    "CustomerName": "Tailspin Toys (Head Office)",
                                    "OrderID": "7487",
                                    "OrderDate": "2013-05-23"
                                },
                                {
                                    "CustomerName": "Tailspin Toys (Head Office)",
                                    "OrderID": "7522",
                                    "OrderDate": "2013-05-23"
                                },
                                {
                                    "CustomerName": "Tailspin Toys (Head Office)",
                                    "OrderID": "8258",
                                    "OrderDate": "2013-06-05"
                                }
                            ]
                        },
                        "text/html": "<table><tr><th>CustomerName</th><th>OrderID</th><th>OrderDate</th></tr><tr><td>Tailspin Toys (Head Office)</td><td>2934</td><td>2013-03-04</td></tr><tr><td>Tailspin Toys (Head Office)</td><td>3482</td><td>2013-03-12</td></tr><tr><td>Tailspin Toys (Head Office)</td><td>3651</td><td>2013-03-14</td></tr><tr><td>Tailspin Toys (Head Office)</td><td>4064</td><td>2013-03-21</td></tr><tr><td>Tailspin Toys (Head Office)</td><td>4217</td><td>2013-03-25</td></tr><tr><td>Tailspin Toys (Head Office)</td><td>4297</td><td>2013-03-26</td></tr><tr><td>Tailspin Toys (Head Office)</td><td>4581</td><td>2013-04-01</td></tr><tr><td>Tailspin Toys (Head Office)</td><td>4732</td><td>2013-04-04</td></tr><tr><td>Tailspin Toys (Head Office)</td><td>5062</td><td>2013-04-10</td></tr><tr><td>Tailspin Toys (Head Office)</td><td>5063</td><td>2013-04-10</td></tr><tr><td>Tailspin Toys (Head Office)</td><td>5264</td><td>2013-04-13</td></tr><tr><td>Tailspin Toys (Head Office)</td><td>7431</td><td>2013-05-22</td></tr><tr><td>Tailspin Toys (Head Office)</td><td>7487</td><td>2013-05-23</td></tr><tr><td>Tailspin Toys (Head Office)</td><td>7522</td><td>2013-05-23</td></tr><tr><td>Tailspin Toys (Head Office)</td><td>8258</td><td>2013-06-05</td></tr></table>"
                    },
                    "metadata": {}
                }
            ],
            "execution_count": 6
        },
        {
            "cell_type": "code",
            "source": [
                " -- 2) Show those 15 orders and the salesperson who handled them\r\n",
                "SELECT TOP (15)\r\n",
                "    o.OrderID,             -- unique order ID\r\n",
                "    e.FullName AS Salesperson,  -- name of salesperson from People table\r\n",
                "    o.OrderDate            -- date when the order was placed\r\n",
                "FROM Sales.Orders AS o         -- Orders table\r\n",
                "INNER JOIN Application.People AS e   -- People table has employees\r\n",
                "    ON o.SalespersonPersonID = e.PersonID;  -- join using salesperson’s PersonID\r\n",
                "    "
            ],
            "metadata": {
                "azdata_cell_guid": "1aff847c-d85a-4a9c-aa30-35a97ee9c83e",
                "language": "sql"
            },
            "outputs": [
                {
                    "output_type": "display_data",
                    "data": {
                        "text/html": "(15 rows affected)"
                    },
                    "metadata": {}
                },
                {
                    "output_type": "display_data",
                    "data": {
                        "text/html": "Total execution time: 00:00:00.012"
                    },
                    "metadata": {}
                },
                {
                    "output_type": "execute_result",
                    "metadata": {},
                    "execution_count": 1,
                    "data": {
                        "application/vnd.dataresource+json": {
                            "schema": {
                                "fields": [
                                    {
                                        "name": "OrderID"
                                    },
                                    {
                                        "name": "Salesperson"
                                    },
                                    {
                                        "name": "OrderDate"
                                    }
                                ]
                            },
                            "data": [
                                {
                                    "OrderID": "1",
                                    "Salesperson": "Kayla Woodcock",
                                    "OrderDate": "2013-01-01"
                                },
                                {
                                    "OrderID": "2",
                                    "Salesperson": "Anthony Grosse",
                                    "OrderDate": "2013-01-01"
                                },
                                {
                                    "OrderID": "3",
                                    "Salesperson": "Amy Trefl",
                                    "OrderDate": "2013-01-01"
                                },
                                {
                                    "OrderID": "4",
                                    "Salesperson": "Archer Lamble",
                                    "OrderDate": "2013-01-01"
                                },
                                {
                                    "OrderID": "5",
                                    "Salesperson": "Hudson Onslow",
                                    "OrderDate": "2013-01-01"
                                },
                                {
                                    "OrderID": "6",
                                    "Salesperson": "Hudson Hollinworth",
                                    "OrderDate": "2013-01-01"
                                },
                                {
                                    "OrderID": "7",
                                    "Salesperson": "Anthony Grosse",
                                    "OrderDate": "2013-01-01"
                                },
                                {
                                    "OrderID": "8",
                                    "Salesperson": "Amy Trefl",
                                    "OrderDate": "2013-01-01"
                                },
                                {
                                    "OrderID": "9",
                                    "Salesperson": "Amy Trefl",
                                    "OrderDate": "2013-01-01"
                                },
                                {
                                    "OrderID": "10",
                                    "Salesperson": "Jack Potter",
                                    "OrderDate": "2013-01-01"
                                },
                                {
                                    "OrderID": "11",
                                    "Salesperson": "Hudson Onslow",
                                    "OrderDate": "2013-01-01"
                                },
                                {
                                    "OrderID": "12",
                                    "Salesperson": "Taj Shand",
                                    "OrderDate": "2013-01-01"
                                },
                                {
                                    "OrderID": "13",
                                    "Salesperson": "Hudson Hollinworth",
                                    "OrderDate": "2013-01-01"
                                },
                                {
                                    "OrderID": "14",
                                    "Salesperson": "Anthony Grosse",
                                    "OrderDate": "2013-01-01"
                                },
                                {
                                    "OrderID": "15",
                                    "Salesperson": "Hudson Onslow",
                                    "OrderDate": "2013-01-01"
                                }
                            ]
                        },
                        "text/html": [
                            "<table>",
                            "<tr><th>OrderID</th><th>Salesperson</th><th>OrderDate</th></tr>",
                            "<tr><td>1</td><td>Kayla Woodcock</td><td>2013-01-01</td></tr>",
                            "<tr><td>2</td><td>Anthony Grosse</td><td>2013-01-01</td></tr>",
                            "<tr><td>3</td><td>Amy Trefl</td><td>2013-01-01</td></tr>",
                            "<tr><td>4</td><td>Archer Lamble</td><td>2013-01-01</td></tr>",
                            "<tr><td>5</td><td>Hudson Onslow</td><td>2013-01-01</td></tr>",
                            "<tr><td>6</td><td>Hudson Hollinworth</td><td>2013-01-01</td></tr>",
                            "<tr><td>7</td><td>Anthony Grosse</td><td>2013-01-01</td></tr>",
                            "<tr><td>8</td><td>Amy Trefl</td><td>2013-01-01</td></tr>",
                            "<tr><td>9</td><td>Amy Trefl</td><td>2013-01-01</td></tr>",
                            "<tr><td>10</td><td>Jack Potter</td><td>2013-01-01</td></tr>",
                            "<tr><td>11</td><td>Hudson Onslow</td><td>2013-01-01</td></tr>",
                            "<tr><td>12</td><td>Taj Shand</td><td>2013-01-01</td></tr>",
                            "<tr><td>13</td><td>Hudson Hollinworth</td><td>2013-01-01</td></tr>",
                            "<tr><td>14</td><td>Anthony Grosse</td><td>2013-01-01</td></tr>",
                            "<tr><td>15</td><td>Hudson Onslow</td><td>2013-01-01</td></tr>",
                            "</table>"
                        ]
                    }
                }
            ],
            "execution_count": 1
        },
        {
            "cell_type": "code",
            "source": [
                "-- 3) Show customers who placed fewer than 12 orders\r\n",
                "SELECT\r\n",
                "    c.CustomerName,                   -- name of customer\r\n",
                "    COUNT(o.OrderID) AS TotalOrders   -- total orders placed\r\n",
                "FROM Sales.Customers AS c\r\n",
                "LEFT JOIN Sales.Orders AS o\r\n",
                "    ON c.CustomerID = o.CustomerID    -- join customers to orders\r\n",
                "GROUP BY c.CustomerName               -- one row per customer\r\n",
                "HAVING COUNT(o.OrderID) < 12;          -- filter: fewer than 3 orders, LLM help needed "
            ],
            "metadata": {
                "azdata_cell_guid": "22fbc150-3824-4c90-9613-f96eff02aa82",
                "language": "sql"
            },
            "outputs": [
                {
                    "output_type": "display_data",
                    "data": {
                        "text/html": "(3 rows affected)"
                    },
                    "metadata": {}
                },
                {
                    "output_type": "display_data",
                    "data": {
                        "text/html": "Total execution time: 00:00:00.017"
                    },
                    "metadata": {}
                },
                {
                    "output_type": "execute_result",
                    "execution_count": 3,
                    "data": {
                        "application/vnd.dataresource+json": {
                            "schema": {
                                "fields": [
                                    {
                                        "name": "CustomerName"
                                    },
                                    {
                                        "name": "TotalOrders"
                                    }
                                ]
                            },
                            "data": [
                                {
                                    "CustomerName": "Jibek Juniskyzy",
                                    "TotalOrders": "8"
                                },
                                {
                                    "CustomerName": "Anand Mudaliyar",
                                    "TotalOrders": "4"
                                },
                                {
                                    "CustomerName": "Agrita Abele",
                                    "TotalOrders": "9"
                                }
                            ]
                        },
                        "text/html": "<table><tr><th>CustomerName</th><th>TotalOrders</th></tr><tr><td>Jibek Juniskyzy</td><td>8</td></tr><tr><td>Anand Mudaliyar</td><td>4</td></tr><tr><td>Agrita Abele</td><td>9</td></tr></table>"
                    },
                    "metadata": {}
                }
            ],
            "execution_count": 3
        },
        {
            "cell_type": "code",
            "source": [
                "-- 4) Show the first 15 orders and the delivery method used (from the invoice)\r\n",
                "SELECT TOP (15)\r\n",
                "    o.OrderID,                  -- order ID from Sales.Orders\r\n",
                "    o.OrderDate,                -- order date\r\n",
                "    dm.DeliveryMethodName       -- delivery method name from Application.DeliveryMethods\r\n",
                "FROM Sales.Orders AS o\r\n",
                "LEFT JOIN Sales.Invoices AS i\r\n",
                "    ON i.OrderID = o.OrderID    -- link each order to its invoice(s), if any\r\n",
                "LEFT JOIN Application.DeliveryMethods AS dm\r\n",
                "    ON i.DeliveryMethodID = dm.DeliveryMethodID;  -- get the method used on the invoice\r\n",
                ""
            ],
            "metadata": {
                "azdata_cell_guid": "bae0365f-a776-4b59-83ce-614ca6d87fbf",
                "language": "sql",
                "tags": []
            },
            "outputs": [
                {
                    "output_type": "display_data",
                    "data": {
                        "text/html": "(15 rows affected)"
                    },
                    "metadata": {}
                },
                {
                    "output_type": "display_data",
                    "data": {
                        "text/html": "Total execution time: 00:00:00.017"
                    },
                    "metadata": {}
                },
                {
                    "output_type": "execute_result",
                    "metadata": {},
                    "execution_count": 2,
                    "data": {
                        "application/vnd.dataresource+json": {
                            "schema": {
                                "fields": [
                                    {
                                        "name": "OrderID"
                                    },
                                    {
                                        "name": "OrderDate"
                                    },
                                    {
                                        "name": "DeliveryMethodName"
                                    }
                                ]
                            },
                            "data": [
                                {
                                    "OrderID": "1",
                                    "OrderDate": "2013-01-01",
                                    "DeliveryMethodName": "Delivery Van"
                                },
                                {
                                    "OrderID": "2",
                                    "OrderDate": "2013-01-01",
                                    "DeliveryMethodName": "Delivery Van"
                                },
                                {
                                    "OrderID": "3",
                                    "OrderDate": "2013-01-01",
                                    "DeliveryMethodName": "Delivery Van"
                                },
                                {
                                    "OrderID": "4",
                                    "OrderDate": "2013-01-01",
                                    "DeliveryMethodName": "Delivery Van"
                                },
                                {
                                    "OrderID": "5",
                                    "OrderDate": "2013-01-01",
                                    "DeliveryMethodName": "Delivery Van"
                                },
                                {
                                    "OrderID": "6",
                                    "OrderDate": "2013-01-01",
                                    "DeliveryMethodName": "Delivery Van"
                                },
                                {
                                    "OrderID": "7",
                                    "OrderDate": "2013-01-01",
                                    "DeliveryMethodName": "Delivery Van"
                                },
                                {
                                    "OrderID": "8",
                                    "OrderDate": "2013-01-01",
                                    "DeliveryMethodName": "Delivery Van"
                                },
                                {
                                    "OrderID": "9",
                                    "OrderDate": "2013-01-01",
                                    "DeliveryMethodName": "Delivery Van"
                                },
                                {
                                    "OrderID": "10",
                                    "OrderDate": "2013-01-01",
                                    "DeliveryMethodName": "Delivery Van"
                                },
                                {
                                    "OrderID": "11",
                                    "OrderDate": "2013-01-01",
                                    "DeliveryMethodName": "Delivery Van"
                                },
                                {
                                    "OrderID": "12",
                                    "OrderDate": "2013-01-01",
                                    "DeliveryMethodName": "Delivery Van"
                                },
                                {
                                    "OrderID": "13",
                                    "OrderDate": "2013-01-01",
                                    "DeliveryMethodName": "Delivery Van"
                                },
                                {
                                    "OrderID": "14",
                                    "OrderDate": "2013-01-01",
                                    "DeliveryMethodName": "Delivery Van"
                                },
                                {
                                    "OrderID": "15",
                                    "OrderDate": "2013-01-01",
                                    "DeliveryMethodName": "Delivery Van"
                                }
                            ]
                        },
                        "text/html": [
                            "<table>",
                            "<tr><th>OrderID</th><th>OrderDate</th><th>DeliveryMethodName</th></tr>",
                            "<tr><td>1</td><td>2013-01-01</td><td>Delivery Van</td></tr>",
                            "<tr><td>2</td><td>2013-01-01</td><td>Delivery Van</td></tr>",
                            "<tr><td>3</td><td>2013-01-01</td><td>Delivery Van</td></tr>",
                            "<tr><td>4</td><td>2013-01-01</td><td>Delivery Van</td></tr>",
                            "<tr><td>5</td><td>2013-01-01</td><td>Delivery Van</td></tr>",
                            "<tr><td>6</td><td>2013-01-01</td><td>Delivery Van</td></tr>",
                            "<tr><td>7</td><td>2013-01-01</td><td>Delivery Van</td></tr>",
                            "<tr><td>8</td><td>2013-01-01</td><td>Delivery Van</td></tr>",
                            "<tr><td>9</td><td>2013-01-01</td><td>Delivery Van</td></tr>",
                            "<tr><td>10</td><td>2013-01-01</td><td>Delivery Van</td></tr>",
                            "<tr><td>11</td><td>2013-01-01</td><td>Delivery Van</td></tr>",
                            "<tr><td>12</td><td>2013-01-01</td><td>Delivery Van</td></tr>",
                            "<tr><td>13</td><td>2013-01-01</td><td>Delivery Van</td></tr>",
                            "<tr><td>14</td><td>2013-01-01</td><td>Delivery Van</td></tr>",
                            "<tr><td>15</td><td>2013-01-01</td><td>Delivery Van</td></tr>",
                            "</table>"
                        ]
                    }
                }
            ],
            "execution_count": 2
        },
        {
            "cell_type": "code",
            "source": [
                "-- 5) Show the first 40 suppliers and the products they supply\r\n",
                "SELECT TOP (40)\r\n",
                "    s.SupplierName,       -- supplier name\r\n",
                "    si.StockItemName      -- product name (can be NULL if no product)\r\n",
                "FROM Warehouse.StockItems AS si\r\n",
                "RIGHT JOIN Purchasing.Suppliers AS s\r\n",
                "    ON si.SupplierID = s.SupplierID;  -- link suppliers to their items\r\n",
                "    "
            ],
            "metadata": {
                "azdata_cell_guid": "b914d5cc-bc34-4033-bcb4-2b5be07d70a0",
                "language": "sql"
            },
            "outputs": [
                {
                    "output_type": "display_data",
                    "data": {
                        "text/html": "(40 rows affected)"
                    },
                    "metadata": {}
                },
                {
                    "output_type": "display_data",
                    "data": {
                        "text/html": "Total execution time: 00:00:00.015"
                    },
                    "metadata": {}
                },
                {
                    "output_type": "execute_result",
                    "metadata": {},
                    "execution_count": 13,
                    "data": {
                        "application/vnd.dataresource+json": {
                            "schema": {
                                "fields": [
                                    {
                                        "name": "SupplierName"
                                    },
                                    {
                                        "name": "StockItemName"
                                    }
                                ]
                            },
                            "data": [
                                {
                                    "SupplierName": "A Datum Corporation",
                                    "StockItemName": "Novelty chilli chocolates 250g"
                                },
                                {
                                    "SupplierName": "A Datum Corporation",
                                    "StockItemName": "Novelty chilli chocolates 500g"
                                },
                                {
                                    "SupplierName": "A Datum Corporation",
                                    "StockItemName": "Chocolate beetles 250g"
                                },
                                {
                                    "SupplierName": "A Datum Corporation",
                                    "StockItemName": "Chocolate echidnas 250g"
                                },
                                {
                                    "SupplierName": "A Datum Corporation",
                                    "StockItemName": "Chocolate frogs 250g"
                                },
                                {
                                    "SupplierName": "A Datum Corporation",
                                    "StockItemName": "Chocolate sharks 250g"
                                },
                                {
                                    "SupplierName": "A Datum Corporation",
                                    "StockItemName": "White chocolate snow balls 250g"
                                },
                                {
                                    "SupplierName": "A Datum Corporation",
                                    "StockItemName": "White chocolate moon rocks 250g"
                                },
                                {
                                    "SupplierName": "Contoso, Ltd.",
                                    "StockItemName": "Pack of 12 action figures (variety)"
                                },
                                {
                                    "SupplierName": "Contoso, Ltd.",
                                    "StockItemName": "Pack of 12 action figures (male)"
                                },
                                {
                                    "SupplierName": "Contoso, Ltd.",
                                    "StockItemName": "Pack of 12 action figures (female)"
                                },
                                {
                                    "SupplierName": "Consolidated Messenger",
                                    "StockItemName": "NULL"
                                },
                                {
                                    "SupplierName": "Fabrikam, Inc.",
                                    "StockItemName": "\"The Gu\" red shirt XML tag t-shirt (White) 3XS"
                                },
                                {
                                    "SupplierName": "Fabrikam, Inc.",
                                    "StockItemName": "\"The Gu\" red shirt XML tag t-shirt (White) XXS"
                                },
                                {
                                    "SupplierName": "Fabrikam, Inc.",
                                    "StockItemName": "\"The Gu\" red shirt XML tag t-shirt (White) XS"
                                },
                                {
                                    "SupplierName": "Fabrikam, Inc.",
                                    "StockItemName": "\"The Gu\" red shirt XML tag t-shirt (White) S"
                                },
                                {
                                    "SupplierName": "Fabrikam, Inc.",
                                    "StockItemName": "\"The Gu\" red shirt XML tag t-shirt (White) M"
                                },
                                {
                                    "SupplierName": "Fabrikam, Inc.",
                                    "StockItemName": "\"The Gu\" red shirt XML tag t-shirt (White) L"
                                },
                                {
                                    "SupplierName": "Fabrikam, Inc.",
                                    "StockItemName": "\"The Gu\" red shirt XML tag t-shirt (White) XL"
                                },
                                {
                                    "SupplierName": "Fabrikam, Inc.",
                                    "StockItemName": "\"The Gu\" red shirt XML tag t-shirt (White) XXL"
                                },
                                {
                                    "SupplierName": "Fabrikam, Inc.",
                                    "StockItemName": "\"The Gu\" red shirt XML tag t-shirt (White) 3XL"
                                },
                                {
                                    "SupplierName": "Fabrikam, Inc.",
                                    "StockItemName": "\"The Gu\" red shirt XML tag t-shirt (White) 4XL"
                                },
                                {
                                    "SupplierName": "Fabrikam, Inc.",
                                    "StockItemName": "\"The Gu\" red shirt XML tag t-shirt (White) 5XL"
                                },
                                {
                                    "SupplierName": "Fabrikam, Inc.",
                                    "StockItemName": "\"The Gu\" red shirt XML tag t-shirt (White) 6XL"
                                },
                                {
                                    "SupplierName": "Fabrikam, Inc.",
                                    "StockItemName": "\"The Gu\" red shirt XML tag t-shirt (White) 7XL"
                                },
                                {
                                    "SupplierName": "Fabrikam, Inc.",
                                    "StockItemName": "\"The Gu\" red shirt XML tag t-shirt (Black) 3XS"
                                },
                                {
                                    "SupplierName": "Fabrikam, Inc.",
                                    "StockItemName": "\"The Gu\" red shirt XML tag t-shirt (Black) XXS"
                                },
                                {
                                    "SupplierName": "Fabrikam, Inc.",
                                    "StockItemName": "\"The Gu\" red shirt XML tag t-shirt (Black) XS"
                                },
                                {
                                    "SupplierName": "Fabrikam, Inc.",
                                    "StockItemName": "\"The Gu\" red shirt XML tag t-shirt (Black) S"
                                },
                                {
                                    "SupplierName": "Fabrikam, Inc.",
                                    "StockItemName": "\"The Gu\" red shirt XML tag t-shirt (Black) M"
                                },
                                {
                                    "SupplierName": "Fabrikam, Inc.",
                                    "StockItemName": "\"The Gu\" red shirt XML tag t-shirt (Black) L"
                                },
                                {
                                    "SupplierName": "Fabrikam, Inc.",
                                    "StockItemName": "\"The Gu\" red shirt XML tag t-shirt (Black) XL"
                                },
                                {
                                    "SupplierName": "Fabrikam, Inc.",
                                    "StockItemName": "\"The Gu\" red shirt XML tag t-shirt (Black) XXL"
                                },
                                {
                                    "SupplierName": "Fabrikam, Inc.",
                                    "StockItemName": "\"The Gu\" red shirt XML tag t-shirt (Black) 3XL"
                                },
                                {
                                    "SupplierName": "Fabrikam, Inc.",
                                    "StockItemName": "\"The Gu\" red shirt XML tag t-shirt (Black) 4XL"
                                },
                                {
                                    "SupplierName": "Fabrikam, Inc.",
                                    "StockItemName": "\"The Gu\" red shirt XML tag t-shirt (Black) 5XL"
                                },
                                {
                                    "SupplierName": "Fabrikam, Inc.",
                                    "StockItemName": "\"The Gu\" red shirt XML tag t-shirt (Black) 6XL"
                                },
                                {
                                    "SupplierName": "Fabrikam, Inc.",
                                    "StockItemName": "\"The Gu\" red shirt XML tag t-shirt (Black) 7XL"
                                },
                                {
                                    "SupplierName": "Fabrikam, Inc.",
                                    "StockItemName": "Alien officer hoodie (Black) XL"
                                },
                                {
                                    "SupplierName": "Fabrikam, Inc.",
                                    "StockItemName": "Alien officer hoodie (Black) XXL"
                                }
                            ]
                        },
                        "text/html": [
                            "<table>",
                            "<tr><th>SupplierName</th><th>StockItemName</th></tr>",
                            "<tr><td>A Datum Corporation</td><td>Novelty chilli chocolates 250g</td></tr>",
                            "<tr><td>A Datum Corporation</td><td>Novelty chilli chocolates 500g</td></tr>",
                            "<tr><td>A Datum Corporation</td><td>Chocolate beetles 250g</td></tr>",
                            "<tr><td>A Datum Corporation</td><td>Chocolate echidnas 250g</td></tr>",
                            "<tr><td>A Datum Corporation</td><td>Chocolate frogs 250g</td></tr>",
                            "<tr><td>A Datum Corporation</td><td>Chocolate sharks 250g</td></tr>",
                            "<tr><td>A Datum Corporation</td><td>White chocolate snow balls 250g</td></tr>",
                            "<tr><td>A Datum Corporation</td><td>White chocolate moon rocks 250g</td></tr>",
                            "<tr><td>Contoso, Ltd.</td><td>Pack of 12 action figures (variety)</td></tr>",
                            "<tr><td>Contoso, Ltd.</td><td>Pack of 12 action figures (male)</td></tr>",
                            "<tr><td>Contoso, Ltd.</td><td>Pack of 12 action figures (female)</td></tr>",
                            "<tr><td>Consolidated Messenger</td><td>NULL</td></tr>",
                            "<tr><td>Fabrikam, Inc.</td><td>&quot;The Gu&quot; red shirt XML tag t-shirt (White) 3XS</td></tr>",
                            "<tr><td>Fabrikam, Inc.</td><td>&quot;The Gu&quot; red shirt XML tag t-shirt (White) XXS</td></tr>",
                            "<tr><td>Fabrikam, Inc.</td><td>&quot;The Gu&quot; red shirt XML tag t-shirt (White) XS</td></tr>",
                            "<tr><td>Fabrikam, Inc.</td><td>&quot;The Gu&quot; red shirt XML tag t-shirt (White) S</td></tr>",
                            "<tr><td>Fabrikam, Inc.</td><td>&quot;The Gu&quot; red shirt XML tag t-shirt (White) M</td></tr>",
                            "<tr><td>Fabrikam, Inc.</td><td>&quot;The Gu&quot; red shirt XML tag t-shirt (White) L</td></tr>",
                            "<tr><td>Fabrikam, Inc.</td><td>&quot;The Gu&quot; red shirt XML tag t-shirt (White) XL</td></tr>",
                            "<tr><td>Fabrikam, Inc.</td><td>&quot;The Gu&quot; red shirt XML tag t-shirt (White) XXL</td></tr>",
                            "<tr><td>Fabrikam, Inc.</td><td>&quot;The Gu&quot; red shirt XML tag t-shirt (White) 3XL</td></tr>",
                            "<tr><td>Fabrikam, Inc.</td><td>&quot;The Gu&quot; red shirt XML tag t-shirt (White) 4XL</td></tr>",
                            "<tr><td>Fabrikam, Inc.</td><td>&quot;The Gu&quot; red shirt XML tag t-shirt (White) 5XL</td></tr>",
                            "<tr><td>Fabrikam, Inc.</td><td>&quot;The Gu&quot; red shirt XML tag t-shirt (White) 6XL</td></tr>",
                            "<tr><td>Fabrikam, Inc.</td><td>&quot;The Gu&quot; red shirt XML tag t-shirt (White) 7XL</td></tr>",
                            "<tr><td>Fabrikam, Inc.</td><td>&quot;The Gu&quot; red shirt XML tag t-shirt (Black) 3XS</td></tr>",
                            "<tr><td>Fabrikam, Inc.</td><td>&quot;The Gu&quot; red shirt XML tag t-shirt (Black) XXS</td></tr>",
                            "<tr><td>Fabrikam, Inc.</td><td>&quot;The Gu&quot; red shirt XML tag t-shirt (Black) XS</td></tr>",
                            "<tr><td>Fabrikam, Inc.</td><td>&quot;The Gu&quot; red shirt XML tag t-shirt (Black) S</td></tr>",
                            "<tr><td>Fabrikam, Inc.</td><td>&quot;The Gu&quot; red shirt XML tag t-shirt (Black) M</td></tr>",
                            "<tr><td>Fabrikam, Inc.</td><td>&quot;The Gu&quot; red shirt XML tag t-shirt (Black) L</td></tr>",
                            "<tr><td>Fabrikam, Inc.</td><td>&quot;The Gu&quot; red shirt XML tag t-shirt (Black) XL</td></tr>",
                            "<tr><td>Fabrikam, Inc.</td><td>&quot;The Gu&quot; red shirt XML tag t-shirt (Black) XXL</td></tr>",
                            "<tr><td>Fabrikam, Inc.</td><td>&quot;The Gu&quot; red shirt XML tag t-shirt (Black) 3XL</td></tr>",
                            "<tr><td>Fabrikam, Inc.</td><td>&quot;The Gu&quot; red shirt XML tag t-shirt (Black) 4XL</td></tr>",
                            "<tr><td>Fabrikam, Inc.</td><td>&quot;The Gu&quot; red shirt XML tag t-shirt (Black) 5XL</td></tr>",
                            "<tr><td>Fabrikam, Inc.</td><td>&quot;The Gu&quot; red shirt XML tag t-shirt (Black) 6XL</td></tr>",
                            "<tr><td>Fabrikam, Inc.</td><td>&quot;The Gu&quot; red shirt XML tag t-shirt (Black) 7XL</td></tr>",
                            "<tr><td>Fabrikam, Inc.</td><td>Alien officer hoodie (Black) XL</td></tr>",
                            "<tr><td>Fabrikam, Inc.</td><td>Alien officer hoodie (Black) XXL</td></tr>",
                            "</table>"
                        ]
                    }
                }
            ],
            "execution_count": 13
        },
        {
            "cell_type": "markdown",
            "source": [
                "I wanted to get a random order, so took help from chatgpt, in order to figure what ORDER BY to use. Each run=different result"
            ],
            "metadata": {
                "language": "sql",
                "azdata_cell_guid": "747fa4c8-cc5a-4f99-9858-129ea6cda842"
            },
            "attachments": {}
        },
        {
            "cell_type": "code",
            "source": [
                "-- 6) Show each customer and their primary contact details (random 20)\r\n",
                "SELECT TOP (20)\r\n",
                "    c.CustomerName,                 -- customer name\r\n",
                "    p.FullName AS PrimaryContact,   -- contact person\r\n",
                "    p.PhoneNumber,                  -- phone of contact\r\n",
                "    p.EmailAddress                  -- email of contact\r\n",
                "FROM Sales.Customers AS c\r\n",
                "LEFT JOIN Application.People AS p\r\n",
                "    ON c.PrimaryContactPersonID = p.PersonID\r\n",
                "ORDER BY NEWID();  -- randomize the rows each run "
            ],
            "metadata": {
                "language": "sql",
                "azdata_cell_guid": "bcf4f873-a6d8-457c-af7d-c1e6897bcd53",
                "tags": []
            },
            "outputs": [
                {
                    "output_type": "display_data",
                    "data": {
                        "text/html": "(20 rows affected)"
                    },
                    "metadata": {}
                },
                {
                    "output_type": "display_data",
                    "data": {
                        "text/html": "Total execution time: 00:00:00.025"
                    },
                    "metadata": {}
                },
                {
                    "output_type": "execute_result",
                    "metadata": {},
                    "execution_count": 12,
                    "data": {
                        "application/vnd.dataresource+json": {
                            "schema": {
                                "fields": [
                                    {
                                        "name": "CustomerName"
                                    },
                                    {
                                        "name": "PrimaryContact"
                                    },
                                    {
                                        "name": "PhoneNumber"
                                    },
                                    {
                                        "name": "EmailAddress"
                                    }
                                ]
                            },
                            "data": [
                                {
                                    "CustomerName": "Hai Banh",
                                    "PrimaryContact": "Hai Banh",
                                    "PhoneNumber": "(252) 555-0100",
                                    "EmailAddress": "hai@example.com"
                                },
                                {
                                    "CustomerName": "Tailspin Toys (Hambleton, WV)",
                                    "PrimaryContact": "Marcela Jankova",
                                    "PhoneNumber": "(304) 555-0100",
                                    "EmailAddress": "marcela@tailspintoys.com"
                                },
                                {
                                    "CustomerName": "Geza Roman",
                                    "PrimaryContact": "Geza Roman",
                                    "PhoneNumber": "(215) 555-0100",
                                    "EmailAddress": "geza@example.com"
                                },
                                {
                                    "CustomerName": "Wingtip Toys (Glen Ullin, ND)",
                                    "PrimaryContact": "Gabriela Chirila",
                                    "PhoneNumber": "(701) 555-0100",
                                    "EmailAddress": "gabriela@wingtiptoys.com"
                                },
                                {
                                    "CustomerName": "Maryann Huddleston",
                                    "PrimaryContact": "Maryann Huddleston",
                                    "PhoneNumber": "(304) 555-0100",
                                    "EmailAddress": "maryann@example.com"
                                },
                                {
                                    "CustomerName": "Anca Gogean",
                                    "PrimaryContact": "Anca Gogean",
                                    "PhoneNumber": "(209) 555-0100",
                                    "EmailAddress": "anca@example.com"
                                },
                                {
                                    "CustomerName": "Tailspin Toys (Good Hart, MI)",
                                    "PrimaryContact": "Afshin Djalili",
                                    "PhoneNumber": "(231) 555-0100",
                                    "EmailAddress": "afshin@tailspintoys.com"
                                },
                                {
                                    "CustomerName": "Tailspin Toys (Crary, ND)",
                                    "PrimaryContact": "Bishwanath Ghosh",
                                    "PhoneNumber": "(701) 555-0100",
                                    "EmailAddress": "bishwanath@tailspintoys.com"
                                },
                                {
                                    "CustomerName": "Ludmila Smidova",
                                    "PrimaryContact": "Ludmila Smidova",
                                    "PhoneNumber": "(480) 555-0100",
                                    "EmailAddress": "ludmila@example.com"
                                },
                                {
                                    "CustomerName": "Tailspin Toys (Skyway, WA)",
                                    "PrimaryContact": "Brenda Morgan",
                                    "PhoneNumber": "(206) 555-0100",
                                    "EmailAddress": "brenda@tailspintoys.com"
                                },
                                {
                                    "CustomerName": "Wingtip Toys (Bourbonnais, IL)",
                                    "PrimaryContact": "Miran Nikolic",
                                    "PhoneNumber": "(217) 555-0100",
                                    "EmailAddress": "miran@wingtiptoys.com"
                                },
                                {
                                    "CustomerName": "Tailspin Toys (Amanda Park, WA)",
                                    "PrimaryContact": "Adrijana Blagojevic",
                                    "PhoneNumber": "(206) 555-0100",
                                    "EmailAddress": "adrijana@tailspintoys.com"
                                },
                                {
                                    "CustomerName": "Tailspin Toys (Trentwood, WA)",
                                    "PrimaryContact": "Daniela Barrios",
                                    "PhoneNumber": "(206) 555-0100",
                                    "EmailAddress": "daniela@tailspintoys.com"
                                },
                                {
                                    "CustomerName": "Dipti Shah",
                                    "PrimaryContact": "Dipti Shah",
                                    "PhoneNumber": "(216) 555-0100",
                                    "EmailAddress": "dipti@example.com"
                                },
                                {
                                    "CustomerName": "Mahavir Sonkar",
                                    "PrimaryContact": "Mahavir Sonkar",
                                    "PhoneNumber": "(505) 555-0100",
                                    "EmailAddress": "mahavir@example.com"
                                },
                                {
                                    "CustomerName": "Tailspin Toys (Sun River, MT)",
                                    "PrimaryContact": "Aleksander Jarvi",
                                    "PhoneNumber": "(406) 555-0100",
                                    "EmailAddress": "aleksander@tailspintoys.com"
                                },
                                {
                                    "CustomerName": "Wingtip Toys (Bergen Park, CO)",
                                    "PrimaryContact": "Matej Formanek",
                                    "PhoneNumber": "(303) 555-0100",
                                    "EmailAddress": "matej@wingtiptoys.com"
                                },
                                {
                                    "CustomerName": "Nils Kaulins",
                                    "PrimaryContact": "Nils Kaulins",
                                    "PhoneNumber": "(406) 555-0100",
                                    "EmailAddress": "nils@example.com"
                                },
                                {
                                    "CustomerName": "Wingtip Toys (Waycross, GA)",
                                    "PrimaryContact": "Akhtar Shahrestaani",
                                    "PhoneNumber": "(229) 555-0100",
                                    "EmailAddress": "akhtar@wingtiptoys.com"
                                },
                                {
                                    "CustomerName": "Wingtip Toys (Queen Valley, AZ)",
                                    "PrimaryContact": "Parsa Reuser",
                                    "PhoneNumber": "(480) 555-0100",
                                    "EmailAddress": "parsa@wingtiptoys.com"
                                }
                            ]
                        },
                        "text/html": [
                            "<table>",
                            "<tr><th>CustomerName</th><th>PrimaryContact</th><th>PhoneNumber</th><th>EmailAddress</th></tr>",
                            "<tr><td>Hai Banh</td><td>Hai Banh</td><td>(252) 555-0100</td><td>hai@example.com</td></tr>",
                            "<tr><td>Tailspin Toys (Hambleton, WV)</td><td>Marcela Jankova</td><td>(304) 555-0100</td><td>marcela@tailspintoys.com</td></tr>",
                            "<tr><td>Geza Roman</td><td>Geza Roman</td><td>(215) 555-0100</td><td>geza@example.com</td></tr>",
                            "<tr><td>Wingtip Toys (Glen Ullin, ND)</td><td>Gabriela Chirila</td><td>(701) 555-0100</td><td>gabriela@wingtiptoys.com</td></tr>",
                            "<tr><td>Maryann Huddleston</td><td>Maryann Huddleston</td><td>(304) 555-0100</td><td>maryann@example.com</td></tr>",
                            "<tr><td>Anca Gogean</td><td>Anca Gogean</td><td>(209) 555-0100</td><td>anca@example.com</td></tr>",
                            "<tr><td>Tailspin Toys (Good Hart, MI)</td><td>Afshin Djalili</td><td>(231) 555-0100</td><td>afshin@tailspintoys.com</td></tr>",
                            "<tr><td>Tailspin Toys (Crary, ND)</td><td>Bishwanath Ghosh</td><td>(701) 555-0100</td><td>bishwanath@tailspintoys.com</td></tr>",
                            "<tr><td>Ludmila Smidova</td><td>Ludmila Smidova</td><td>(480) 555-0100</td><td>ludmila@example.com</td></tr>",
                            "<tr><td>Tailspin Toys (Skyway, WA)</td><td>Brenda Morgan</td><td>(206) 555-0100</td><td>brenda@tailspintoys.com</td></tr>",
                            "<tr><td>Wingtip Toys (Bourbonnais, IL)</td><td>Miran Nikolic</td><td>(217) 555-0100</td><td>miran@wingtiptoys.com</td></tr>",
                            "<tr><td>Tailspin Toys (Amanda Park, WA)</td><td>Adrijana Blagojevic</td><td>(206) 555-0100</td><td>adrijana@tailspintoys.com</td></tr>",
                            "<tr><td>Tailspin Toys (Trentwood, WA)</td><td>Daniela Barrios</td><td>(206) 555-0100</td><td>daniela@tailspintoys.com</td></tr>",
                            "<tr><td>Dipti Shah</td><td>Dipti Shah</td><td>(216) 555-0100</td><td>dipti@example.com</td></tr>",
                            "<tr><td>Mahavir Sonkar</td><td>Mahavir Sonkar</td><td>(505) 555-0100</td><td>mahavir@example.com</td></tr>",
                            "<tr><td>Tailspin Toys (Sun River, MT)</td><td>Aleksander Jarvi</td><td>(406) 555-0100</td><td>aleksander@tailspintoys.com</td></tr>",
                            "<tr><td>Wingtip Toys (Bergen Park, CO)</td><td>Matej Formanek</td><td>(303) 555-0100</td><td>matej@wingtiptoys.com</td></tr>",
                            "<tr><td>Nils Kaulins</td><td>Nils Kaulins</td><td>(406) 555-0100</td><td>nils@example.com</td></tr>",
                            "<tr><td>Wingtip Toys (Waycross, GA)</td><td>Akhtar Shahrestaani</td><td>(229) 555-0100</td><td>akhtar@wingtiptoys.com</td></tr>",
                            "<tr><td>Wingtip Toys (Queen Valley, AZ)</td><td>Parsa Reuser</td><td>(480) 555-0100</td><td>parsa@wingtiptoys.com</td></tr>",
                            "</table>"
                        ]
                    }
                }
            ],
            "execution_count": 12
        },
        {
            "cell_type": "code",
            "source": [
                "-- 7) Show 10 orders with customer and salesperson details (random)\r\n",
                "SELECT TOP (10)\r\n",
                "    o.OrderID,             -- order ID\r\n",
                "    c.CustomerName,        -- customer name\r\n",
                "    e.FullName AS Salesperson,  -- salesperson name\r\n",
                "    o.OrderDate            -- order date\r\n",
                "FROM Sales.Orders AS o\r\n",
                "INNER JOIN Sales.Customers AS c\r\n",
                "    ON o.CustomerID = c.CustomerID    -- link orders to customers\r\n",
                "INNER JOIN Application.People AS e\r\n",
                "    ON o.SalespersonPersonID = e.PersonID  -- link orders to salesperson\r\n",
                "    ORDER BY NEWID();  -- randomize the rows each run "
            ],
            "metadata": {
                "language": "sql",
                "azdata_cell_guid": "ac56a117-81c7-46f0-9c59-7dbc8563d6ae",
                "tags": []
            },
            "outputs": [
                {
                    "output_type": "display_data",
                    "data": {
                        "text/html": "(10 rows affected)"
                    },
                    "metadata": {}
                },
                {
                    "output_type": "display_data",
                    "data": {
                        "text/html": "Total execution time: 00:00:00.071"
                    },
                    "metadata": {}
                },
                {
                    "output_type": "execute_result",
                    "metadata": {},
                    "execution_count": 18,
                    "data": {
                        "application/vnd.dataresource+json": {
                            "schema": {
                                "fields": [
                                    {
                                        "name": "OrderID"
                                    },
                                    {
                                        "name": "CustomerName"
                                    },
                                    {
                                        "name": "Salesperson"
                                    },
                                    {
                                        "name": "OrderDate"
                                    }
                                ]
                            },
                            "data": [
                                {
                                    "OrderID": "42992",
                                    "CustomerName": "Yves Belisle",
                                    "Salesperson": "Hudson Hollinworth",
                                    "OrderDate": "2015-02-10"
                                },
                                {
                                    "OrderID": "52917",
                                    "CustomerName": "Wingtip Toys (Idaho City, ID)",
                                    "Salesperson": "Taj Shand",
                                    "OrderDate": "2015-07-11"
                                },
                                {
                                    "OrderID": "7110",
                                    "CustomerName": "Tailspin Toys (San Acacia, NM)",
                                    "Salesperson": "Hudson Onslow",
                                    "OrderDate": "2013-05-16"
                                },
                                {
                                    "OrderID": "69275",
                                    "CustomerName": "Wingtip Toys (San Jacinto, CA)",
                                    "Salesperson": "Hudson Hollinworth",
                                    "OrderDate": "2016-03-28"
                                },
                                {
                                    "OrderID": "8262",
                                    "CustomerName": "Tailspin Toys (Ikatan, AK)",
                                    "Salesperson": "Kayla Woodcock",
                                    "OrderDate": "2013-06-05"
                                },
                                {
                                    "OrderID": "45839",
                                    "CustomerName": "Nada Ana Slosar",
                                    "Salesperson": "Jack Potter",
                                    "OrderDate": "2015-03-27"
                                },
                                {
                                    "OrderID": "40196",
                                    "CustomerName": "Wingtip Toys (Deeson, MS)",
                                    "Salesperson": "Amy Trefl",
                                    "OrderDate": "2014-12-24"
                                },
                                {
                                    "OrderID": "24239",
                                    "CustomerName": "Nada Ana Slosar",
                                    "Salesperson": "Taj Shand",
                                    "OrderDate": "2014-03-28"
                                },
                                {
                                    "OrderID": "27500",
                                    "CustomerName": "Tailspin Toys (Caselton, NV)",
                                    "Salesperson": "Jack Potter",
                                    "OrderDate": "2014-05-23"
                                },
                                {
                                    "OrderID": "32156",
                                    "CustomerName": "Tailspin Toys (Guin, AL)",
                                    "Salesperson": "Lily Code",
                                    "OrderDate": "2014-08-06"
                                }
                            ]
                        },
                        "text/html": [
                            "<table>",
                            "<tr><th>OrderID</th><th>CustomerName</th><th>Salesperson</th><th>OrderDate</th></tr>",
                            "<tr><td>42992</td><td>Yves Belisle</td><td>Hudson Hollinworth</td><td>2015-02-10</td></tr>",
                            "<tr><td>52917</td><td>Wingtip Toys (Idaho City, ID)</td><td>Taj Shand</td><td>2015-07-11</td></tr>",
                            "<tr><td>7110</td><td>Tailspin Toys (San Acacia, NM)</td><td>Hudson Onslow</td><td>2013-05-16</td></tr>",
                            "<tr><td>69275</td><td>Wingtip Toys (San Jacinto, CA)</td><td>Hudson Hollinworth</td><td>2016-03-28</td></tr>",
                            "<tr><td>8262</td><td>Tailspin Toys (Ikatan, AK)</td><td>Kayla Woodcock</td><td>2013-06-05</td></tr>",
                            "<tr><td>45839</td><td>Nada Ana Slosar</td><td>Jack Potter</td><td>2015-03-27</td></tr>",
                            "<tr><td>40196</td><td>Wingtip Toys (Deeson, MS)</td><td>Amy Trefl</td><td>2014-12-24</td></tr>",
                            "<tr><td>24239</td><td>Nada Ana Slosar</td><td>Taj Shand</td><td>2014-03-28</td></tr>",
                            "<tr><td>27500</td><td>Tailspin Toys (Caselton, NV)</td><td>Jack Potter</td><td>2014-05-23</td></tr>",
                            "<tr><td>32156</td><td>Tailspin Toys (Guin, AL)</td><td>Lily Code</td><td>2014-08-06</td></tr>",
                            "</table>"
                        ]
                    }
                }
            ],
            "execution_count": 18
        },
        {
            "cell_type": "code",
            "source": [
                "-- 8) Top 15 Customers by highest total orders\r\n",
                "SELECT TOP (15)\r\n",
                "    c.CustomerName,                  -- customer name\r\n",
                "    COUNT(o.OrderID) AS TotalOrders  -- total orders (0 if none)\r\n",
                "FROM Sales.Customers AS c\r\n",
                "LEFT JOIN Sales.Orders AS o\r\n",
                "    ON c.CustomerID = o.CustomerID -- join customers to orders\r\n",
                "GROUP BY c.CustomerName\r\n",
                "ORDER BY TotalOrders DESC, c.CustomerName ASC;  -- tie-breaker by name\r\n",
                ""
            ],
            "metadata": {
                "language": "sql",
                "azdata_cell_guid": "a13c3a4d-c02d-4edd-9db2-3222c1fba9dd"
            },
            "outputs": [
                {
                    "output_type": "display_data",
                    "data": {
                        "text/html": "(15 rows affected)"
                    },
                    "metadata": {}
                },
                {
                    "output_type": "display_data",
                    "data": {
                        "text/html": "Total execution time: 00:00:00.023"
                    },
                    "metadata": {}
                },
                {
                    "output_type": "execute_result",
                    "metadata": {},
                    "execution_count": 19,
                    "data": {
                        "application/vnd.dataresource+json": {
                            "schema": {
                                "fields": [
                                    {
                                        "name": "CustomerName"
                                    },
                                    {
                                        "name": "TotalOrders"
                                    }
                                ]
                            },
                            "data": [
                                {
                                    "CustomerName": "Tailspin Toys (Tolna, ND)",
                                    "TotalOrders": "150"
                                },
                                {
                                    "CustomerName": "Bhaavan Rai",
                                    "TotalOrders": "147"
                                },
                                {
                                    "CustomerName": "Anca Gogean",
                                    "TotalOrders": "146"
                                },
                                {
                                    "CustomerName": "Aleksandrs Riekstins",
                                    "TotalOrders": "145"
                                },
                                {
                                    "CustomerName": "Wingtip Toys (Bourbonnais, IL)",
                                    "TotalOrders": "145"
                                },
                                {
                                    "CustomerName": "Tailspin Toys (Ashtabula, OH)",
                                    "TotalOrders": "144"
                                },
                                {
                                    "CustomerName": "Tailspin Toys (New Baden, IL)",
                                    "TotalOrders": "144"
                                },
                                {
                                    "CustomerName": "Tailspin Toys (North Crows Nest, IN)",
                                    "TotalOrders": "143"
                                },
                                {
                                    "CustomerName": "Tailspin Toys (Tierra Verde, FL)",
                                    "TotalOrders": "141"
                                },
                                {
                                    "CustomerName": "Elina Kaleja",
                                    "TotalOrders": "140"
                                },
                                {
                                    "CustomerName": "Ingrida Zeltina",
                                    "TotalOrders": "140"
                                },
                                {
                                    "CustomerName": "Wingtip Toys (Kapa'a, HI)",
                                    "TotalOrders": "140"
                                },
                                {
                                    "CustomerName": "Wingtip Toys (Sarversville, PA)",
                                    "TotalOrders": "140"
                                },
                                {
                                    "CustomerName": "Bishwa Chatterjee",
                                    "TotalOrders": "139"
                                },
                                {
                                    "CustomerName": "Tailspin Toys (Maypearl, TX)",
                                    "TotalOrders": "139"
                                }
                            ]
                        },
                        "text/html": [
                            "<table>",
                            "<tr><th>CustomerName</th><th>TotalOrders</th></tr>",
                            "<tr><td>Tailspin Toys (Tolna, ND)</td><td>150</td></tr>",
                            "<tr><td>Bhaavan Rai</td><td>147</td></tr>",
                            "<tr><td>Anca Gogean</td><td>146</td></tr>",
                            "<tr><td>Aleksandrs Riekstins</td><td>145</td></tr>",
                            "<tr><td>Wingtip Toys (Bourbonnais, IL)</td><td>145</td></tr>",
                            "<tr><td>Tailspin Toys (Ashtabula, OH)</td><td>144</td></tr>",
                            "<tr><td>Tailspin Toys (New Baden, IL)</td><td>144</td></tr>",
                            "<tr><td>Tailspin Toys (North Crows Nest, IN)</td><td>143</td></tr>",
                            "<tr><td>Tailspin Toys (Tierra Verde, FL)</td><td>141</td></tr>",
                            "<tr><td>Elina Kaleja</td><td>140</td></tr>",
                            "<tr><td>Ingrida Zeltina</td><td>140</td></tr>",
                            "<tr><td>Wingtip Toys (Kapa&#39;a, HI)</td><td>140</td></tr>",
                            "<tr><td>Wingtip Toys (Sarversville, PA)</td><td>140</td></tr>",
                            "<tr><td>Bishwa Chatterjee</td><td>139</td></tr>",
                            "<tr><td>Tailspin Toys (Maypearl, TX)</td><td>139</td></tr>",
                            "</table>"
                        ]
                    }
                }
            ],
            "execution_count": 19
        },
        {
            "cell_type": "code",
            "source": [
                "-- 9) Rank salespeople based on the total quantity of items they sold\r\n",
                "-- assistance from LLM chatgpt.\r\n",
                "SELECT \r\n",
                "    e.FullName AS Salesperson,     -- salesperson name\r\n",
                "    SUM(ol.Quantity) AS TotalItemsSold,  -- total number of items sold\r\n",
                "    RANK() OVER (ORDER BY SUM(ol.Quantity) DESC) AS SalesRank\r\n",
                "        -- rank salespeople (1 = highest sales)\r\n",
                "FROM Sales.OrderLines AS ol\r\n",
                "INNER JOIN Sales.Orders AS o\r\n",
                "    ON ol.OrderID = o.OrderID      -- link order lines to orders\r\n",
                "INNER JOIN Application.People AS e\r\n",
                "    ON o.SalespersonPersonID = e.PersonID   -- link orders to salespeople\r\n",
                "GROUP BY e.FullName;               -- group results per salesperson"
            ],
            "metadata": {
                "language": "sql",
                "azdata_cell_guid": "838fd14d-d711-43d8-aa08-222aa6f2fe6a"
            },
            "outputs": [
                {
                    "output_type": "display_data",
                    "data": {
                        "text/html": "(10 rows affected)"
                    },
                    "metadata": {}
                },
                {
                    "output_type": "display_data",
                    "data": {
                        "text/html": "Total execution time: 00:00:00.139"
                    },
                    "metadata": {}
                },
                {
                    "output_type": "execute_result",
                    "execution_count": 10,
                    "data": {
                        "application/vnd.dataresource+json": {
                            "schema": {
                                "fields": [
                                    {
                                        "name": "Salesperson"
                                    },
                                    {
                                        "name": "TotalItemsSold"
                                    },
                                    {
                                        "name": "SalesRank"
                                    }
                                ]
                            },
                            "data": [
                                {
                                    "Salesperson": "Archer Lamble",
                                    "TotalItemsSold": "946425",
                                    "SalesRank": "1"
                                },
                                {
                                    "Salesperson": "Kayla Woodcock",
                                    "TotalItemsSold": "945460",
                                    "SalesRank": "2"
                                },
                                {
                                    "Salesperson": "Hudson Hollinworth",
                                    "TotalItemsSold": "944339",
                                    "SalesRank": "3"
                                },
                                {
                                    "Salesperson": "Taj Shand",
                                    "TotalItemsSold": "941501",
                                    "SalesRank": "4"
                                },
                                {
                                    "Salesperson": "Lily Code",
                                    "TotalItemsSold": "932992",
                                    "SalesRank": "5"
                                },
                                {
                                    "Salesperson": "Anthony Grosse",
                                    "TotalItemsSold": "927726",
                                    "SalesRank": "6"
                                },
                                {
                                    "Salesperson": "Jack Potter",
                                    "TotalItemsSold": "926597",
                                    "SalesRank": "7"
                                },
                                {
                                    "Salesperson": "Hudson Onslow",
                                    "TotalItemsSold": "921680",
                                    "SalesRank": "8"
                                },
                                {
                                    "Salesperson": "Sophia Hinton",
                                    "TotalItemsSold": "916111",
                                    "SalesRank": "9"
                                },
                                {
                                    "Salesperson": "Amy Trefl",
                                    "TotalItemsSold": "908073",
                                    "SalesRank": "10"
                                }
                            ]
                        },
                        "text/html": "<table><tr><th>Salesperson</th><th>TotalItemsSold</th><th>SalesRank</th></tr><tr><td>Archer Lamble</td><td>946425</td><td>1</td></tr><tr><td>Kayla Woodcock</td><td>945460</td><td>2</td></tr><tr><td>Hudson Hollinworth</td><td>944339</td><td>3</td></tr><tr><td>Taj Shand</td><td>941501</td><td>4</td></tr><tr><td>Lily Code</td><td>932992</td><td>5</td></tr><tr><td>Anthony Grosse</td><td>927726</td><td>6</td></tr><tr><td>Jack Potter</td><td>926597</td><td>7</td></tr><tr><td>Hudson Onslow</td><td>921680</td><td>8</td></tr><tr><td>Sophia Hinton</td><td>916111</td><td>9</td></tr><tr><td>Amy Trefl</td><td>908073</td><td>10</td></tr></table>"
                    },
                    "metadata": {}
                }
            ],
            "execution_count": 10
        },
        {
            "cell_type": "code",
            "source": [
                "--10) Show 30 random possible combination of customers and delivery method that only used AIR FREIGHT\r\n",
                "SELECT TOP (30)\r\n",
                "    c.CustomerName,          -- customer name\r\n",
                "    dm.DeliveryMethodName    -- delivery method\r\n",
                "FROM Sales.Customers AS c\r\n",
                "CROSS JOIN Application.DeliveryMethods AS dm\r\n",
                "WHERE dm.DeliveryMethodName = 'Air Freight' -- air freight only\r\n",
                "ORDER BY NEWID(); -- run random as well"
            ],
            "metadata": {
                "language": "sql",
                "azdata_cell_guid": "b52eae52-8360-41ab-b848-3e02b81145db",
                "tags": []
            },
            "outputs": [
                {
                    "output_type": "display_data",
                    "data": {
                        "text/html": "(30 rows affected)"
                    },
                    "metadata": {}
                },
                {
                    "output_type": "display_data",
                    "data": {
                        "text/html": "Total execution time: 00:00:00.014"
                    },
                    "metadata": {}
                },
                {
                    "output_type": "execute_result",
                    "metadata": {},
                    "execution_count": 29,
                    "data": {
                        "application/vnd.dataresource+json": {
                            "schema": {
                                "fields": [
                                    {
                                        "name": "CustomerName"
                                    },
                                    {
                                        "name": "DeliveryMethodName"
                                    }
                                ]
                            },
                            "data": [
                                {
                                    "CustomerName": "Gunnar Lohmus",
                                    "DeliveryMethodName": "Air Freight"
                                },
                                {
                                    "CustomerName": "Tailspin Toys (Teutopolis, IL)",
                                    "DeliveryMethodName": "Air Freight"
                                },
                                {
                                    "CustomerName": "Eva Schulteisz",
                                    "DeliveryMethodName": "Air Freight"
                                },
                                {
                                    "CustomerName": "Wingtip Toys (Cherryplain, NY)",
                                    "DeliveryMethodName": "Air Freight"
                                },
                                {
                                    "CustomerName": "Wingtip Toys (Lostine, OR)",
                                    "DeliveryMethodName": "Air Freight"
                                },
                                {
                                    "CustomerName": "Tailspin Toys (Goffstown, NH)",
                                    "DeliveryMethodName": "Air Freight"
                                },
                                {
                                    "CustomerName": "Wingtip Toys (Morita, TX)",
                                    "DeliveryMethodName": "Air Freight"
                                },
                                {
                                    "CustomerName": "Wingtip Toys (Saint Landry, LA)",
                                    "DeliveryMethodName": "Air Freight"
                                },
                                {
                                    "CustomerName": "Tailspin Toys (Imlaystown, NJ)",
                                    "DeliveryMethodName": "Air Freight"
                                },
                                {
                                    "CustomerName": "Luis Saucedo",
                                    "DeliveryMethodName": "Air Freight"
                                },
                                {
                                    "CustomerName": "Wingtip Toys (Rosa Sánchez, PR)",
                                    "DeliveryMethodName": "Air Freight"
                                },
                                {
                                    "CustomerName": "Wingtip Toys (Sayner, WI)",
                                    "DeliveryMethodName": "Air Freight"
                                },
                                {
                                    "CustomerName": "Wingtip Toys (Crossroads, NM)",
                                    "DeliveryMethodName": "Air Freight"
                                },
                                {
                                    "CustomerName": "Tailspin Toys (Tunnelhill, PA)",
                                    "DeliveryMethodName": "Air Freight"
                                },
                                {
                                    "CustomerName": "Tailspin Toys (Gum Branch, GA)",
                                    "DeliveryMethodName": "Air Freight"
                                },
                                {
                                    "CustomerName": "Tailspin Toys (Manahawkin, NJ)",
                                    "DeliveryMethodName": "Air Freight"
                                },
                                {
                                    "CustomerName": "Tailspin Toys (Hedrick, IA)",
                                    "DeliveryMethodName": "Air Freight"
                                },
                                {
                                    "CustomerName": "Tailspin Toys (Lake Erie Beach, NY)",
                                    "DeliveryMethodName": "Air Freight"
                                },
                                {
                                    "CustomerName": "Wingtip Toys (Rose Tree, PA)",
                                    "DeliveryMethodName": "Air Freight"
                                },
                                {
                                    "CustomerName": "Bimla PrabhupÄda",
                                    "DeliveryMethodName": "Air Freight"
                                },
                                {
                                    "CustomerName": "Kamala Nishad",
                                    "DeliveryMethodName": "Air Freight"
                                },
                                {
                                    "CustomerName": "Tailspin Toys (Rafael Capó, PR)",
                                    "DeliveryMethodName": "Air Freight"
                                },
                                {
                                    "CustomerName": "Wingtip Toys (Tea, SD)",
                                    "DeliveryMethodName": "Air Freight"
                                },
                                {
                                    "CustomerName": "Tailspin Toys (La Cueva, NM)",
                                    "DeliveryMethodName": "Air Freight"
                                },
                                {
                                    "CustomerName": "Wingtip Toys (Miesville, MN)",
                                    "DeliveryMethodName": "Air Freight"
                                },
                                {
                                    "CustomerName": "Tailspin Toys (Tomnolen, MS)",
                                    "DeliveryMethodName": "Air Freight"
                                },
                                {
                                    "CustomerName": "Wingtip Toys (Griswoldville, GA)",
                                    "DeliveryMethodName": "Air Freight"
                                },
                                {
                                    "CustomerName": "Tailspin Toys (Absecon, NJ)",
                                    "DeliveryMethodName": "Air Freight"
                                },
                                {
                                    "CustomerName": "Wingtip Toys (Cale, AR)",
                                    "DeliveryMethodName": "Air Freight"
                                },
                                {
                                    "CustomerName": "Tailspin Toys (Heilwood, PA)",
                                    "DeliveryMethodName": "Air Freight"
                                }
                            ]
                        },
                        "text/html": [
                            "<table>",
                            "<tr><th>CustomerName</th><th>DeliveryMethodName</th></tr>",
                            "<tr><td>Gunnar Lohmus</td><td>Air Freight</td></tr>",
                            "<tr><td>Tailspin Toys (Teutopolis, IL)</td><td>Air Freight</td></tr>",
                            "<tr><td>Eva Schulteisz</td><td>Air Freight</td></tr>",
                            "<tr><td>Wingtip Toys (Cherryplain, NY)</td><td>Air Freight</td></tr>",
                            "<tr><td>Wingtip Toys (Lostine, OR)</td><td>Air Freight</td></tr>",
                            "<tr><td>Tailspin Toys (Goffstown, NH)</td><td>Air Freight</td></tr>",
                            "<tr><td>Wingtip Toys (Morita, TX)</td><td>Air Freight</td></tr>",
                            "<tr><td>Wingtip Toys (Saint Landry, LA)</td><td>Air Freight</td></tr>",
                            "<tr><td>Tailspin Toys (Imlaystown, NJ)</td><td>Air Freight</td></tr>",
                            "<tr><td>Luis Saucedo</td><td>Air Freight</td></tr>",
                            "<tr><td>Wingtip Toys (Rosa Sánchez, PR)</td><td>Air Freight</td></tr>",
                            "<tr><td>Wingtip Toys (Sayner, WI)</td><td>Air Freight</td></tr>",
                            "<tr><td>Wingtip Toys (Crossroads, NM)</td><td>Air Freight</td></tr>",
                            "<tr><td>Tailspin Toys (Tunnelhill, PA)</td><td>Air Freight</td></tr>",
                            "<tr><td>Tailspin Toys (Gum Branch, GA)</td><td>Air Freight</td></tr>",
                            "<tr><td>Tailspin Toys (Manahawkin, NJ)</td><td>Air Freight</td></tr>",
                            "<tr><td>Tailspin Toys (Hedrick, IA)</td><td>Air Freight</td></tr>",
                            "<tr><td>Tailspin Toys (Lake Erie Beach, NY)</td><td>Air Freight</td></tr>",
                            "<tr><td>Wingtip Toys (Rose Tree, PA)</td><td>Air Freight</td></tr>",
                            "<tr><td>Bimla PrabhupÄda</td><td>Air Freight</td></tr>",
                            "<tr><td>Kamala Nishad</td><td>Air Freight</td></tr>",
                            "<tr><td>Tailspin Toys (Rafael Capó, PR)</td><td>Air Freight</td></tr>",
                            "<tr><td>Wingtip Toys (Tea, SD)</td><td>Air Freight</td></tr>",
                            "<tr><td>Tailspin Toys (La Cueva, NM)</td><td>Air Freight</td></tr>",
                            "<tr><td>Wingtip Toys (Miesville, MN)</td><td>Air Freight</td></tr>",
                            "<tr><td>Tailspin Toys (Tomnolen, MS)</td><td>Air Freight</td></tr>",
                            "<tr><td>Wingtip Toys (Griswoldville, GA)</td><td>Air Freight</td></tr>",
                            "<tr><td>Tailspin Toys (Absecon, NJ)</td><td>Air Freight</td></tr>",
                            "<tr><td>Wingtip Toys (Cale, AR)</td><td>Air Freight</td></tr>",
                            "<tr><td>Tailspin Toys (Heilwood, PA)</td><td>Air Freight</td></tr>",
                            "</table>"
                        ]
                    }
                }
            ],
            "execution_count": 29
        }
    ]

}
